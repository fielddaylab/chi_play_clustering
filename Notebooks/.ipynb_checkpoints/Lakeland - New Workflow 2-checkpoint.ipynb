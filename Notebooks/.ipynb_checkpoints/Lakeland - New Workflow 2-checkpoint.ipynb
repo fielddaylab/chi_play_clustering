{
 "cells": [
  {
   "cell_type": "markdown",
   "metadata": {
    "colab_type": "text",
    "id": "3y--5QVT2D34"
   },
   "source": [
    "## Read in everything"
   ]
  },
  {
   "cell_type": "code",
   "execution_count": 3,
   "metadata": {
    "colab": {},
    "colab_type": "code",
    "id": "NKMG2FtW2D38"
   },
   "outputs": [
    {
     "ename": "ModuleNotFoundError",
     "evalue": "No module named 'google'",
     "output_type": "error",
     "traceback": [
      "\u001b[0;31m---------------------------------------------------------------------------\u001b[0m",
      "\u001b[0;31mModuleNotFoundError\u001b[0m                       Traceback (most recent call last)",
      "\u001b[0;32m<ipython-input-3-ccec8511b712>\u001b[0m in \u001b[0;36m<module>\u001b[0;34m\u001b[0m\n\u001b[1;32m      4\u001b[0m \u001b[0;32mimport\u001b[0m \u001b[0mnumpy\u001b[0m \u001b[0;32mas\u001b[0m \u001b[0mnp\u001b[0m\u001b[0;34m\u001b[0m\u001b[0;34m\u001b[0m\u001b[0m\n\u001b[1;32m      5\u001b[0m \u001b[0mpd\u001b[0m\u001b[0;34m.\u001b[0m\u001b[0moptions\u001b[0m\u001b[0;34m.\u001b[0m\u001b[0mdisplay\u001b[0m\u001b[0;34m.\u001b[0m\u001b[0mmax_columns\u001b[0m \u001b[0;34m=\u001b[0m \u001b[0;36m1000\u001b[0m\u001b[0;34m\u001b[0m\u001b[0;34m\u001b[0m\u001b[0m\n\u001b[0;32m----> 6\u001b[0;31m \u001b[0;32mfrom\u001b[0m \u001b[0mgoogle\u001b[0m\u001b[0;34m.\u001b[0m\u001b[0mcolab\u001b[0m \u001b[0;32mimport\u001b[0m \u001b[0mfiles\u001b[0m\u001b[0;34m\u001b[0m\u001b[0;34m\u001b[0m\u001b[0m\n\u001b[0m\u001b[1;32m      7\u001b[0m \u001b[0;32mimport\u001b[0m \u001b[0murllib\u001b[0m\u001b[0;34m.\u001b[0m\u001b[0mrequest\u001b[0m\u001b[0;34m\u001b[0m\u001b[0;34m\u001b[0m\u001b[0m\n\u001b[1;32m      8\u001b[0m \u001b[0;32mfrom\u001b[0m \u001b[0mzipfile\u001b[0m \u001b[0;32mimport\u001b[0m \u001b[0mZipFile\u001b[0m\u001b[0;34m\u001b[0m\u001b[0;34m\u001b[0m\u001b[0m\n",
      "\u001b[0;31mModuleNotFoundError\u001b[0m: No module named 'google'"
     ]
    }
   ],
   "source": [
    "import pandas as pd\n",
    "from matplotlib import pyplot as plt\n",
    "from math import ceil\n",
    "import numpy as np\n",
    "pd.options.display.max_columns = 1000\n",
    "from google.colab import files\n",
    "import urllib.request\n",
    "from zipfile import ZipFile\n",
    "from io import BytesIO"
   ]
  },
  {
   "cell_type": "markdown",
   "metadata": {
    "colab_type": "text",
    "id": "KaFtkicF6I9I"
   },
   "source": [
    "Open proc_zip from url as a dataframe"
   ]
  },
  {
   "cell_type": "code",
   "execution_count": 4,
   "metadata": {
    "colab": {
     "base_uri": "https://localhost:8080/",
     "height": 71
    },
    "colab_type": "code",
    "executionInfo": {
     "elapsed": 6442,
     "status": "ok",
     "timestamp": 1580739106453,
     "user": {
      "displayName": "David Gagnon",
      "photoUrl": "https://lh3.googleusercontent.com/a-/AAuE7mCUZwCqqdWw3feuAGeqSqh-YOG409Op0xO6c-pKDQ=s64",
      "userId": "14617378013216445466"
     },
     "user_tz": 360
    },
    "id": "4Fy5wAVX6ILP",
    "outputId": "e6910d54-a9f7-4d41-929c-44c403933b68"
   },
   "outputs": [
    {
     "ename": "NameError",
     "evalue": "name 'urllib' is not defined",
     "output_type": "error",
     "traceback": [
      "\u001b[0;31m---------------------------------------------------------------------------\u001b[0m",
      "\u001b[0;31mNameError\u001b[0m                                 Traceback (most recent call last)",
      "\u001b[0;32m<ipython-input-4-7de0b7bf071f>\u001b[0m in \u001b[0;36m<module>\u001b[0;34m\u001b[0m\n\u001b[1;32m      1\u001b[0m \u001b[0mproc_zip_url\u001b[0m \u001b[0;34m=\u001b[0m \u001b[0;34m'https://github.com/fielddaylab/opengamedata/blob/master/jupyter/lakeland_data/LAKELAND_20191201_to_20191231_b2cf46d_proc.zip?raw=true'\u001b[0m\u001b[0;34m\u001b[0m\u001b[0;34m\u001b[0m\u001b[0m\n\u001b[0;32m----> 2\u001b[0;31m \u001b[0mresp\u001b[0m \u001b[0;34m=\u001b[0m \u001b[0murllib\u001b[0m\u001b[0;34m.\u001b[0m\u001b[0mrequest\u001b[0m\u001b[0;34m.\u001b[0m\u001b[0murlopen\u001b[0m\u001b[0;34m(\u001b[0m\u001b[0mproc_zip_url\u001b[0m\u001b[0;34m)\u001b[0m\u001b[0;34m\u001b[0m\u001b[0;34m\u001b[0m\u001b[0m\n\u001b[0m\u001b[1;32m      3\u001b[0m \u001b[0mzipfile\u001b[0m \u001b[0;34m=\u001b[0m \u001b[0mZipFile\u001b[0m\u001b[0;34m(\u001b[0m\u001b[0mBytesIO\u001b[0m\u001b[0;34m(\u001b[0m\u001b[0mresp\u001b[0m\u001b[0;34m.\u001b[0m\u001b[0mread\u001b[0m\u001b[0;34m(\u001b[0m\u001b[0;34m)\u001b[0m\u001b[0;34m)\u001b[0m\u001b[0;34m)\u001b[0m\u001b[0;34m\u001b[0m\u001b[0;34m\u001b[0m\u001b[0m\n\u001b[1;32m      4\u001b[0m \u001b[0;32mwith\u001b[0m \u001b[0mzipfile\u001b[0m\u001b[0;34m.\u001b[0m\u001b[0mopen\u001b[0m\u001b[0;34m(\u001b[0m\u001b[0mzipfile\u001b[0m\u001b[0;34m.\u001b[0m\u001b[0mnamelist\u001b[0m\u001b[0;34m(\u001b[0m\u001b[0;34m)\u001b[0m\u001b[0;34m[\u001b[0m\u001b[0;36m0\u001b[0m\u001b[0;34m]\u001b[0m\u001b[0;34m)\u001b[0m \u001b[0;32mas\u001b[0m \u001b[0mf\u001b[0m\u001b[0;34m:\u001b[0m\u001b[0;34m\u001b[0m\u001b[0;34m\u001b[0m\u001b[0m\n\u001b[1;32m      5\u001b[0m     \u001b[0mdf\u001b[0m \u001b[0;34m=\u001b[0m \u001b[0mpd\u001b[0m\u001b[0;34m.\u001b[0m\u001b[0mread_csv\u001b[0m\u001b[0;34m(\u001b[0m\u001b[0mf\u001b[0m\u001b[0;34m)\u001b[0m\u001b[0;34m\u001b[0m\u001b[0;34m\u001b[0m\u001b[0m\n",
      "\u001b[0;31mNameError\u001b[0m: name 'urllib' is not defined"
     ]
    }
   ],
   "source": [
    "proc_zip_url = 'https://github.com/fielddaylab/opengamedata/blob/master/jupyter/lakeland_data/LAKELAND_20191201_to_20191231_b2cf46d_proc.zip?raw=true'\n",
    "resp = urllib.request.urlopen(proc_zip_url)\n",
    "zipfile = ZipFile(BytesIO(resp.read()))\n",
    "with zipfile.open(zipfile.namelist()[0]) as f:\n",
    "    df = pd.read_csv(f)"
   ]
  },
  {
   "cell_type": "code",
   "execution_count": null,
   "metadata": {
    "colab": {
     "base_uri": "https://localhost:8080/",
     "height": 270
    },
    "colab_type": "code",
    "executionInfo": {
     "elapsed": 7542,
     "status": "ok",
     "timestamp": 1580739107582,
     "user": {
      "displayName": "David Gagnon",
      "photoUrl": "https://lh3.googleusercontent.com/a-/AAuE7mCUZwCqqdWw3feuAGeqSqh-YOG409Op0xO6c-pKDQ=s64",
      "userId": "14617378013216445466"
     },
     "user_tz": 360
    },
    "id": "s2_mQ2Xi2D4H",
    "outputId": "7f4c045d-2543-48cc-d1d3-c1f5e9f74d11"
   },
   "outputs": [],
   "source": [
    "print(df.shape)\n",
    "df.head()"
   ]
  },
  {
   "cell_type": "markdown",
   "metadata": {
    "colab_type": "text",
    "id": "_DM-rJu-2D4X"
   },
   "source": [
    "## Filtering\n",
    "- Filtered out the sessions that used SPYPARTY (debug=1)\n",
    "- Filtered any sessions that were not between 60 seconds and 3600 seconds\n",
    "- Filtered out continues\n",
    "- Filtered out any sessions that did not have at least 3 active events in lvl0 and 10 in the session"
   ]
  },
  {
   "cell_type": "code",
   "execution_count": null,
   "metadata": {
    "colab": {
     "base_uri": "https://localhost:8080/",
     "height": 439
    },
    "colab_type": "code",
    "executionInfo": {
     "elapsed": 8722,
     "status": "ok",
     "timestamp": 1580739108796,
     "user": {
      "displayName": "David Gagnon",
      "photoUrl": "https://lh3.googleusercontent.com/a-/AAuE7mCUZwCqqdWw3feuAGeqSqh-YOG409Op0xO6c-pKDQ=s64",
      "userId": "14617378013216445466"
     },
     "user_tz": 360
    },
    "id": "-X6aU6wT2D4Y",
    "outputId": "32862dad-0097-4d21-d645-4c2cb413a535"
   },
   "outputs": [],
   "source": [
    "df = df[df['debug'] < 1]\n",
    "df = df[df['continue'] > 0]\n",
    "df = df[(60 < df['sessDuration']) & (df['sessDuration'] < 60*60*1)]\n",
    "df = df[df['lvl0_ActiveEventCount'] > 2]\n",
    "df = df[df['sess_ActiveEventCount'] > 9]\n",
    "df"
   ]
  },
  {
   "cell_type": "markdown",
   "metadata": {
    "colab_type": "text",
    "id": "ddkSF1-V2D4M"
   },
   "source": [
    "## Filter out which columns I want to use.\n",
    "#### Print all level features available"
   ]
  },
  {
   "cell_type": "code",
   "execution_count": null,
   "metadata": {
    "colab": {},
    "colab_type": "code",
    "id": "1XFdKJS0Alxt"
   },
   "outputs": [],
   "source": [
    "hover_f_avg = lambda i, item: f'lvl{i}_avg_num_tiles_hovered_before_placing_{item}'\n",
    "hover_f_tot = lambda i, item: f'lvl{i}_tot_num_tiles_hovered_before_placing_{item}'\n",
    "for i in range(10):\n",
    "  for item in ['home','food','farm','fertilizer','livestock','skimmer','sign','road']:\n",
    "    df[hover_f_tot(i,item)] = df[hover_f_avg(i,item)].fillna(0) * df[f'lvl{i}_count_buy_{item}'].fillna(0)\n",
    "  df[hover_f_tot(i,\"buys\")] = df.loc[:,hover_f_tot(i,\"home\"):hover_f_tot(i,\"road\")].sum(axis=1)\n",
    "  df[f'lvl{i}_count_buys'] = df.loc[:,f'lvl{i}_count_buy_home':f'lvl{i}_count_buy_road'].fillna(0).sum(axis=1)"
   ]
  },
  {
   "cell_type": "code",
   "execution_count": null,
   "metadata": {
    "colab": {
     "base_uri": "https://localhost:8080/",
     "height": 1000
    },
    "colab_type": "code",
    "executionInfo": {
     "elapsed": 8690,
     "status": "ok",
     "timestamp": 1580739108797,
     "user": {
      "displayName": "David Gagnon",
      "photoUrl": "https://lh3.googleusercontent.com/a-/AAuE7mCUZwCqqdWw3feuAGeqSqh-YOG409Op0xO6c-pKDQ=s64",
      "userId": "14617378013216445466"
     },
     "user_tz": 360
    },
    "id": "bQ_liWic2D4N",
    "outputId": "45f99b02-3bfe-4266-e20b-f579f1f2481a"
   },
   "outputs": [],
   "source": [
    "all_feats = [(i,c) for i,c in enumerate(df.columns)]\n",
    "lvl0_feats = [f for f in all_feats if f[1].startswith(\"lvl0\")]\n",
    "lvl0_feats"
   ]
  },
  {
   "cell_type": "markdown",
   "metadata": {
    "colab_type": "text",
    "id": "_mxMTqMh2D4R"
   },
   "source": [
    "#### Decided to use the following\n",
    "\n"
   ]
  },
  {
   "cell_type": "code",
   "execution_count": null,
   "metadata": {
    "colab": {},
    "colab_type": "code",
    "id": "xnSxUmL_FxTz"
   },
   "outputs": [],
   "source": [
    "feature_names = [\n",
    "  'tot_num_tiles_hovered_before_placing_buys',\n",
    "  'count_buy_home',\n",
    "  'count_buy_farm',\n",
    "  'count_buy_livestock',\n",
    "  'max_num_food_marked_use',\n",
    "  'count_buys'\n",
    "]\n",
    "levels = range(6)\n",
    "df2 = df.loc[:,[f'lvl{i}_{fn}' for fn in feature_names for i in levels]].fillna(0)\n",
    "for fn in feature_names:\n",
    "  df2[f'sum_{fn}_to_lvl_{levels[-1]}'] = df2[[f'lvl{i}_{fn}' for i in levels]].sum(axis=1)\n",
    "df2[f'avg_num_hovers_per_buy_to_lvl_{levels[-1]}'] = df2[f'sum_tot_num_tiles_hovered_before_placing_buys_to_lvl_{levels[-1]}'] / df2[f'sum_count_buys_to_lvl_{levels[-1]}']"
   ]
  },
  {
   "cell_type": "code",
   "execution_count": null,
   "metadata": {
    "colab": {
     "base_uri": "https://localhost:8080/",
     "height": 439
    },
    "colab_type": "code",
    "executionInfo": {
     "elapsed": 9326,
     "status": "ok",
     "timestamp": 1580739109469,
     "user": {
      "displayName": "David Gagnon",
      "photoUrl": "https://lh3.googleusercontent.com/a-/AAuE7mCUZwCqqdWw3feuAGeqSqh-YOG409Op0xO6c-pKDQ=s64",
      "userId": "14617378013216445466"
     },
     "user_tz": 360
    },
    "id": "-M3gFAXUNch4",
    "outputId": "6081d312-867c-436d-8f19-ec1d25ac0350"
   },
   "outputs": [],
   "source": [
    "df2"
   ]
  },
  {
   "cell_type": "code",
   "execution_count": null,
   "metadata": {
    "colab": {
     "base_uri": "https://localhost:8080/",
     "height": 419
    },
    "colab_type": "code",
    "executionInfo": {
     "elapsed": 9299,
     "status": "ok",
     "timestamp": 1580739109470,
     "user": {
      "displayName": "David Gagnon",
      "photoUrl": "https://lh3.googleusercontent.com/a-/AAuE7mCUZwCqqdWw3feuAGeqSqh-YOG409Op0xO6c-pKDQ=s64",
      "userId": "14617378013216445466"
     },
     "user_tz": 360
    },
    "id": "VC2Pb5OC2D4S",
    "outputId": "0fa35f2d-0bb6-4a52-9928-bc94efdd26a8"
   },
   "outputs": [],
   "source": [
    "df3 = df2.loc[:, 'sum_tot_num_tiles_hovered_before_placing_buys_to_lvl_5':'avg_num_hovers_per_buy_to_lvl_5'].copy()\n",
    "df3 = df3.drop('sum_count_buys_to_lvl_5',axis=1)\n",
    "df3 = df3.drop('sum_max_num_food_marked_use_to_lvl_5',axis=1)\n",
    "df3 = df3.rename(lambda s: s[4:-9],axis=1)\n",
    "df = df.drop(df3[df3['num_hovers_per_buy'] < 1].index)\n",
    "df3 = df3.drop(df3[df3['num_hovers_per_buy'] < 1].index)\n",
    "df3 = df3.fillna(0)\n",
    "df3"
   ]
  },
  {
   "cell_type": "code",
   "execution_count": null,
   "metadata": {
    "colab": {
     "base_uri": "https://localhost:8080/",
     "height": 297
    },
    "colab_type": "code",
    "executionInfo": {
     "elapsed": 9274,
     "status": "ok",
     "timestamp": 1580739109471,
     "user": {
      "displayName": "David Gagnon",
      "photoUrl": "https://lh3.googleusercontent.com/a-/AAuE7mCUZwCqqdWw3feuAGeqSqh-YOG409Op0xO6c-pKDQ=s64",
      "userId": "14617378013216445466"
     },
     "user_tz": 360
    },
    "id": "fZ7EO4rEPuOT",
    "outputId": "f54b4d4c-8701-411a-8ed7-f9cff7c2b745"
   },
   "outputs": [],
   "source": [
    "df3.describe()"
   ]
  },
  {
   "cell_type": "code",
   "execution_count": null,
   "metadata": {
    "colab": {
     "base_uri": "https://localhost:8080/",
     "height": 1000
    },
    "colab_type": "code",
    "executionInfo": {
     "elapsed": 10970,
     "status": "ok",
     "timestamp": 1580739111195,
     "user": {
      "displayName": "David Gagnon",
      "photoUrl": "https://lh3.googleusercontent.com/a-/AAuE7mCUZwCqqdWw3feuAGeqSqh-YOG409Op0xO6c-pKDQ=s64",
      "userId": "14617378013216445466"
     },
     "user_tz": 360
    },
    "id": "vov4xqFrRHre",
    "outputId": "800ef946-1ca5-492f-e6a3-8e1132ffcd17"
   },
   "outputs": [],
   "source": [
    "df3.hist(figsize=(20,20),bins=50)"
   ]
  },
  {
   "cell_type": "code",
   "execution_count": null,
   "metadata": {
    "colab": {
     "base_uri": "https://localhost:8080/",
     "height": 1000
    },
    "colab_type": "code",
    "executionInfo": {
     "elapsed": 12620,
     "status": "ok",
     "timestamp": 1580739112875,
     "user": {
      "displayName": "David Gagnon",
      "photoUrl": "https://lh3.googleusercontent.com/a-/AAuE7mCUZwCqqdWw3feuAGeqSqh-YOG409Op0xO6c-pKDQ=s64",
      "userId": "14617378013216445466"
     },
     "user_tz": 360
    },
    "id": "tNdRms1vRU3_",
    "outputId": "b034d5a5-c47f-4fe0-e1cf-a3578b2a2047"
   },
   "outputs": [],
   "source": [
    "from sklearn.manifold import TSNE\n",
    "from sklearn.cluster import KMeans,DBSCAN\n",
    "from sklearn.preprocessing import StandardScaler, RobustScaler, PowerTransformer, Normalizer\n",
    "from sklearn.pipeline import make_pipeline\n",
    "from sklearn.decomposition import PCA\n",
    "\n",
    "scale_normalize = make_pipeline(RobustScaler(), Normalizer()) #, PCA(n_components=3), KMeans(5))\n",
    "X = scale_normalize.fit_transform(df3.to_numpy())\n",
    "pd.DataFrame(X, columns = df3.columns).hist(figsize=(20,20),bins=50)"
   ]
  },
  {
   "cell_type": "code",
   "execution_count": null,
   "metadata": {
    "colab": {
     "base_uri": "https://localhost:8080/",
     "height": 367
    },
    "colab_type": "code",
    "executionInfo": {
     "elapsed": 12847,
     "status": "ok",
     "timestamp": 1580739113132,
     "user": {
      "displayName": "David Gagnon",
      "photoUrl": "https://lh3.googleusercontent.com/a-/AAuE7mCUZwCqqdWw3feuAGeqSqh-YOG409Op0xO6c-pKDQ=s64",
      "userId": "14617378013216445466"
     },
     "user_tz": 360
    },
    "id": "bH3dKT0uWBmw",
    "outputId": "c8e69c78-59bd-4aff-974d-53a0ca598185"
   },
   "outputs": [],
   "source": [
    "import numpy as np\n",
    "U,S,V = np.linalg.svd(X)\n",
    "eigvals = S**2 / np.sum(S**2)\n",
    "fig = plt.figure(figsize=(8,5))\n",
    "sing_vals = np.arange(X.shape[1]) + 1\n",
    "plt.plot(sing_vals, eigvals, 'ro-', linewidth=2)\n",
    "plt.title('Scree Plot')\n",
    "plt.xlabel('Principal Component')\n",
    "plt.ylabel('Eigenvalue')"
   ]
  },
  {
   "cell_type": "markdown",
   "metadata": {
    "colab_type": "text",
    "id": "MDF79RReh_h-"
   },
   "source": [
    "Begin Using PCA projections"
   ]
  },
  {
   "cell_type": "code",
   "execution_count": null,
   "metadata": {
    "colab": {
     "base_uri": "https://localhost:8080/",
     "height": 1000
    },
    "colab_type": "code",
    "executionInfo": {
     "elapsed": 15925,
     "status": "ok",
     "timestamp": 1580739116240,
     "user": {
      "displayName": "David Gagnon",
      "photoUrl": "https://lh3.googleusercontent.com/a-/AAuE7mCUZwCqqdWw3feuAGeqSqh-YOG409Op0xO6c-pKDQ=s64",
      "userId": "14617378013216445466"
     },
     "user_tz": 360
    },
    "id": "rOKe7FmrS4RS",
    "outputId": "ff26245d-6278-4936-fe74-3a1638474a36"
   },
   "outputs": [],
   "source": [
    "from mpl_toolkits.mplot3d import Axes3D\n",
    "plt.figure(figsize=(20,20))\n",
    "ax = plt.axes(projection='3d')\n",
    "pca = PCA(n_components=3)\n",
    "projected = pca.fit_transform(X)\n",
    "kmeans = KMeans(5).fit(projected)\n",
    "intent_labels=kmeans.labels_\n",
    "ax.scatter3D(projected[:,0], projected[:,1], projected[:,2], c=kmeans.labels_);"
   ]
  },
  {
   "cell_type": "code",
   "execution_count": null,
   "metadata": {
    "colab": {
     "base_uri": "https://localhost:8080/",
     "height": 1000
    },
    "colab_type": "code",
    "executionInfo": {
     "elapsed": 27451,
     "status": "ok",
     "timestamp": 1580739127788,
     "user": {
      "displayName": "David Gagnon",
      "photoUrl": "https://lh3.googleusercontent.com/a-/AAuE7mCUZwCqqdWw3feuAGeqSqh-YOG409Op0xO6c-pKDQ=s64",
      "userId": "14617378013216445466"
     },
     "user_tz": 360
    },
    "id": "52Efo2s9XXMI",
    "outputId": "d3bca5d1-e227-4739-b686-5451db1d847e"
   },
   "outputs": [],
   "source": [
    "def calc_kmeans_errors(kmeans, X):\n",
    "  errors = [0]*(kmeans.n_clusters)\n",
    "  for r,l in zip(X, kmeans.labels_):\n",
    "    errors[l] += np.linalg.norm(r-kmeans.cluster_centers_[l])\n",
    "  return(sum(errors),sum(errors)/kmeans.n_clusters)\n",
    "for nd in range(1,6):\n",
    "  projected = PCA(nd).fit_transform(X)\n",
    "  for k in range(2,11):\n",
    "    print(f'nd={nd}, k={k}')\n",
    "    kmeans = KMeans(k).fit(projected)\n",
    "    print(f'error = {[x//1 for x in calc_kmeans_errors(kmeans,projected)]}')"
   ]
  },
  {
   "cell_type": "markdown",
   "metadata": {
    "colab_type": "text",
    "id": "kmBmz18PiL3q"
   },
   "source": [
    "Begin using Factor Analysis"
   ]
  },
  {
   "cell_type": "code",
   "execution_count": null,
   "metadata": {
    "colab": {
     "base_uri": "https://localhost:8080/",
     "height": 1000
    },
    "colab_type": "code",
    "executionInfo": {
     "elapsed": 29828,
     "status": "ok",
     "timestamp": 1580739130185,
     "user": {
      "displayName": "David Gagnon",
      "photoUrl": "https://lh3.googleusercontent.com/a-/AAuE7mCUZwCqqdWw3feuAGeqSqh-YOG409Op0xO6c-pKDQ=s64",
      "userId": "14617378013216445466"
     },
     "user_tz": 360
    },
    "id": "mHnWKHZReFFU",
    "outputId": "c078bdd7-9957-420b-9711-3b9b605dd4cb"
   },
   "outputs": [],
   "source": [
    "from sklearn.decomposition import FactorAnalysis\n",
    "from mpl_toolkits.mplot3d import Axes3D\n",
    "plt.figure(figsize=(20,20))\n",
    "ax = plt.axes(projection='3d')\n",
    "transformer = FactorAnalysis(n_components=3, random_state=0)\n",
    "projected = transformer.fit_transform(X)\n",
    "kmeans = KMeans(5).fit(projected)\n",
    "intent_labels=kmeans.labels_\n",
    "ax.scatter3D(projected[:,0], projected[:,1], projected[:,2], c=kmeans.labels_);"
   ]
  },
  {
   "cell_type": "code",
   "execution_count": null,
   "metadata": {
    "colab": {
     "base_uri": "https://localhost:8080/",
     "height": 697
    },
    "colab_type": "code",
    "executionInfo": {
     "elapsed": 33766,
     "status": "ok",
     "timestamp": 1580739134141,
     "user": {
      "displayName": "David Gagnon",
      "photoUrl": "https://lh3.googleusercontent.com/a-/AAuE7mCUZwCqqdWw3feuAGeqSqh-YOG409Op0xO6c-pKDQ=s64",
      "userId": "14617378013216445466"
     },
     "user_tz": 360
    },
    "id": "XOj6gHkRiXxL",
    "outputId": "6b341869-868c-403a-ddce-41b8202742d0"
   },
   "outputs": [],
   "source": [
    "def calc_kmeans_errors(kmeans, X):\n",
    "  errors = [0]*(kmeans.n_clusters)\n",
    "  for r,l in zip(X, kmeans.labels_):\n",
    "    errors[l] += np.linalg.norm(r-kmeans.cluster_centers_[l])\n",
    "  return(sum(errors),sum(errors)/kmeans.n_clusters)\n",
    "for nd in range(1,6):\n",
    "  projected = FactorAnalysis(nd, random_state=0).fit_transform(X)\n",
    "  for k in range(2,6):\n",
    "    print(f'nd={nd}, k={k}')\n",
    "    kmeans = KMeans(k).fit(projected)\n",
    "    print(f'error = {[x//1 for x in calc_kmeans_errors(kmeans,projected)]}')"
   ]
  },
  {
   "cell_type": "code",
   "execution_count": null,
   "metadata": {
    "colab": {
     "base_uri": "https://localhost:8080/",
     "height": 312
    },
    "colab_type": "code",
    "executionInfo": {
     "elapsed": 33749,
     "status": "ok",
     "timestamp": 1580739134142,
     "user": {
      "displayName": "David Gagnon",
      "photoUrl": "https://lh3.googleusercontent.com/a-/AAuE7mCUZwCqqdWw3feuAGeqSqh-YOG409Op0xO6c-pKDQ=s64",
      "userId": "14617378013216445466"
     },
     "user_tz": 360
    },
    "id": "XE8RfJfdf1KS",
    "outputId": "51fa19c9-8e7e-455d-c664-7159f1e69dd6"
   },
   "outputs": [],
   "source": [
    "plt.plot(sing_vals, eigvals, 'ro-', linewidth=2)\n",
    "plt.title('Scree Plot')\n",
    "plt.xlabel('Principal Component')\n",
    "plt.ylabel('Eigenvalue')"
   ]
  },
  {
   "cell_type": "markdown",
   "metadata": {
    "colab_type": "text",
    "id": "TslQGrMY2D4c"
   },
   "source": [
    "## Nonintentional - milk produced, corn produced, deaths, achievements, blooms, money earned"
   ]
  },
  {
   "cell_type": "code",
   "execution_count": null,
   "metadata": {
    "colab": {},
    "colab_type": "code",
    "id": "B5hcE5Bu2D4d"
   },
   "outputs": [],
   "source": [
    "feats = [\n",
    "         'count_food_produced',\n",
    "         'count_milk_produced',\n",
    "         'count_deaths',\n",
    "         'count_blooms',\n",
    "         'count_achievements',\n",
    "         'money_earned',\n",
    "]\n",
    "levels = range(6)\n",
    "new_df_dict = {}\n",
    "for f in feats:\n",
    "  new_df_dict[f] = df[[f'lvl{i}_{f}' for i in levels]].fillna(0).sum(axis=1)\n",
    "unintent_df = pd.DataFrame(new_df_dict)"
   ]
  },
  {
   "cell_type": "code",
   "execution_count": null,
   "metadata": {
    "colab": {
     "base_uri": "https://localhost:8080/",
     "height": 1000
    },
    "colab_type": "code",
    "executionInfo": {
     "elapsed": 35291,
     "status": "ok",
     "timestamp": 1580739135713,
     "user": {
      "displayName": "David Gagnon",
      "photoUrl": "https://lh3.googleusercontent.com/a-/AAuE7mCUZwCqqdWw3feuAGeqSqh-YOG409Op0xO6c-pKDQ=s64",
      "userId": "14617378013216445466"
     },
     "user_tz": 360
    },
    "id": "NfnT8EAZfsNf",
    "outputId": "24facafe-7bbd-45e0-aac3-d04e1226b5d8"
   },
   "outputs": [],
   "source": [
    "X = scale_normalize.fit_transform(unintent_df.to_numpy())\n",
    "pd.DataFrame(X, columns = unintent_df.columns).hist(figsize=(20,20),bins=50)"
   ]
  },
  {
   "cell_type": "code",
   "execution_count": null,
   "metadata": {
    "colab": {
     "base_uri": "https://localhost:8080/",
     "height": 367
    },
    "colab_type": "code",
    "executionInfo": {
     "elapsed": 36078,
     "status": "ok",
     "timestamp": 1580739136520,
     "user": {
      "displayName": "David Gagnon",
      "photoUrl": "https://lh3.googleusercontent.com/a-/AAuE7mCUZwCqqdWw3feuAGeqSqh-YOG409Op0xO6c-pKDQ=s64",
      "userId": "14617378013216445466"
     },
     "user_tz": 360
    },
    "id": "5dxZ1EC-gOPI",
    "outputId": "ed1922d9-b6c9-4b81-d0f9-765d3b805259"
   },
   "outputs": [],
   "source": [
    "U,S,V = np.linalg.svd(X)\n",
    "eigvals = S**2 / np.sum(S**2)\n",
    "fig = plt.figure(figsize=(8,5))\n",
    "sing_vals = np.arange(X.shape[1]) + 1\n",
    "plt.plot(sing_vals, eigvals, 'ro-', linewidth=2)\n",
    "plt.title('Scree Plot')\n",
    "plt.xlabel('Principal Component')\n",
    "plt.ylabel('Eigenvalue')"
   ]
  },
  {
   "cell_type": "code",
   "execution_count": null,
   "metadata": {
    "colab": {
     "base_uri": "https://localhost:8080/",
     "height": 618
    },
    "colab_type": "code",
    "executionInfo": {
     "elapsed": 38918,
     "status": "ok",
     "timestamp": 1580739139383,
     "user": {
      "displayName": "David Gagnon",
      "photoUrl": "https://lh3.googleusercontent.com/a-/AAuE7mCUZwCqqdWw3feuAGeqSqh-YOG409Op0xO6c-pKDQ=s64",
      "userId": "14617378013216445466"
     },
     "user_tz": 360
    },
    "id": "bHkNE_bmgj21",
    "outputId": "0ca5a958-1881-4d7f-b0ed-54d2e7cb8e60"
   },
   "outputs": [],
   "source": [
    "error_per_cluster = []\n",
    "for nd in [4]:\n",
    "  projected = PCA(nd).fit_transform(X)\n",
    "  for k in range(2,11):\n",
    "    print(f'nd={nd}, k={k}')\n",
    "    kmeans = KMeans(k).fit(projected)\n",
    "    print(f'error = {[x//1 for x in calc_kmeans_errors(kmeans,projected)]}')\n",
    "    error_per_cluster.append(calc_kmeans_errors(kmeans,projected)[0])\n",
    "plt.plot(range(2,11), error_per_cluster, 'ro-', linewidth=2)\n",
    "plt.title('Finding K')\n",
    "plt.xlabel('k')\n",
    "plt.ylabel('Avg Summed Distances to Cluster Center')"
   ]
  },
  {
   "cell_type": "code",
   "execution_count": null,
   "metadata": {
    "colab": {
     "base_uri": "https://localhost:8080/",
     "height": 1000
    },
    "colab_type": "code",
    "executionInfo": {
     "elapsed": 41128,
     "status": "ok",
     "timestamp": 1580739141617,
     "user": {
      "displayName": "David Gagnon",
      "photoUrl": "https://lh3.googleusercontent.com/a-/AAuE7mCUZwCqqdWw3feuAGeqSqh-YOG409Op0xO6c-pKDQ=s64",
      "userId": "14617378013216445466"
     },
     "user_tz": 360
    },
    "id": "mcqhjGOQhyF4",
    "outputId": "9bde6cb3-0ddf-478a-bc53-950aac40f336"
   },
   "outputs": [],
   "source": [
    "plt.figure(figsize=(20,20))\n",
    "ax = plt.axes(projection='3d')\n",
    "pca = PCA(n_components=4)\n",
    "projected = pca.fit_transform(X)\n",
    "kmeans = KMeans(6).fit(projected)\n",
    "unintent_labels = kmeans.labels_\n",
    "\n",
    "ax.scatter3D(projected[:,0], projected[:,1], projected[:,2], c=kmeans.labels_,cmap='Set1');"
   ]
  },
  {
   "cell_type": "code",
   "execution_count": null,
   "metadata": {
    "colab": {
     "base_uri": "https://localhost:8080/",
     "height": 419
    },
    "colab_type": "code",
    "executionInfo": {
     "elapsed": 41109,
     "status": "ok",
     "timestamp": 1580739141618,
     "user": {
      "displayName": "David Gagnon",
      "photoUrl": "https://lh3.googleusercontent.com/a-/AAuE7mCUZwCqqdWw3feuAGeqSqh-YOG409Op0xO6c-pKDQ=s64",
      "userId": "14617378013216445466"
     },
     "user_tz": 360
    },
    "id": "EN9ey7g7iRkh",
    "outputId": "345a3073-28e1-4c5b-8745-51b405b1f132"
   },
   "outputs": [],
   "source": [
    "cluter_to_cluster_df = pd.DataFrame({'intent': intent_labels, 'unintent': unintent_labels})\n",
    "cluter_to_cluster_df"
   ]
  },
  {
   "cell_type": "code",
   "execution_count": null,
   "metadata": {
    "colab": {
     "base_uri": "https://localhost:8080/",
     "height": 296
    },
    "colab_type": "code",
    "executionInfo": {
     "elapsed": 41089,
     "status": "ok",
     "timestamp": 1580739141618,
     "user": {
      "displayName": "David Gagnon",
      "photoUrl": "https://lh3.googleusercontent.com/a-/AAuE7mCUZwCqqdWw3feuAGeqSqh-YOG409Op0xO6c-pKDQ=s64",
      "userId": "14617378013216445466"
     },
     "user_tz": 360
    },
    "id": "wp1qzXeHizx3",
    "outputId": "3e8f09b4-11e8-401e-dfcb-53aaa4e8ce97"
   },
   "outputs": [],
   "source": [
    "cluter_to_cluster_df.plot.scatter('intent','unintent')"
   ]
  },
  {
   "cell_type": "code",
   "execution_count": null,
   "metadata": {
    "colab": {
     "base_uri": "https://localhost:8080/",
     "height": 312
    },
    "colab_type": "code",
    "executionInfo": {
     "elapsed": 47930,
     "status": "ok",
     "timestamp": 1580739148477,
     "user": {
      "displayName": "David Gagnon",
      "photoUrl": "https://lh3.googleusercontent.com/a-/AAuE7mCUZwCqqdWw3feuAGeqSqh-YOG409Op0xO6c-pKDQ=s64",
      "userId": "14617378013216445466"
     },
     "user_tz": 360
    },
    "id": "3UBzXIxKxmaD",
    "outputId": "e2040b3c-3d4e-48d4-dd4f-5ae660b17e00"
   },
   "outputs": [],
   "source": [
    "error_per_cluster = []\n",
    "k_vals = range(2,30)\n",
    "for k in k_vals:\n",
    "  tX = cluter_to_cluster_df.to_numpy()\n",
    "  kmeans = KMeans(k).fit(tX)\n",
    "  error_per_cluster.append(calc_kmeans_errors(kmeans,tX)[0])\n",
    "plt.plot(k_vals, error_per_cluster, 'ro-', linewidth=2)\n",
    "plt.title('Finding K')\n",
    "plt.xlabel('k')\n",
    "plt.ylabel('Avg Summed Distances to Cluster Center')"
   ]
  },
  {
   "cell_type": "code",
   "execution_count": null,
   "metadata": {
    "colab": {
     "base_uri": "https://localhost:8080/",
     "height": 271
    },
    "colab_type": "code",
    "executionInfo": {
     "elapsed": 48295,
     "status": "ok",
     "timestamp": 1580739148863,
     "user": {
      "displayName": "David Gagnon",
      "photoUrl": "https://lh3.googleusercontent.com/a-/AAuE7mCUZwCqqdWw3feuAGeqSqh-YOG409Op0xO6c-pKDQ=s64",
      "userId": "14617378013216445466"
     },
     "user_tz": 360
    },
    "id": "nQBkhbRDi-OJ",
    "outputId": "1eb5b18c-3c66-476c-84ba-1b47ffb3e444"
   },
   "outputs": [],
   "source": [
    "final_kmeans = KMeans(12).fit(cluter_to_cluster_df.to_numpy())\n",
    "final_labels = final_kmeans.labels_\n",
    "cluter_to_cluster_df.plot.scatter('intent','unintent',c=final_labels,cmap='Paired')"
   ]
  },
  {
   "cell_type": "code",
   "execution_count": null,
   "metadata": {
    "colab": {
     "base_uri": "https://localhost:8080/",
     "height": 221
    },
    "colab_type": "code",
    "executionInfo": {
     "elapsed": 48277,
     "status": "ok",
     "timestamp": 1580739148863,
     "user": {
      "displayName": "David Gagnon",
      "photoUrl": "https://lh3.googleusercontent.com/a-/AAuE7mCUZwCqqdWw3feuAGeqSqh-YOG409Op0xO6c-pKDQ=s64",
      "userId": "14617378013216445466"
     },
     "user_tz": 360
    },
    "id": "whoXeAakjcyg",
    "outputId": "91cab880-2db8-4bfb-fbd5-097577535d14"
   },
   "outputs": [],
   "source": [
    "\n",
    "from collections import Counter\n",
    "Counter(final_labels)"
   ]
  },
  {
   "cell_type": "code",
   "execution_count": null,
   "metadata": {
    "colab": {
     "base_uri": "https://localhost:8080/",
     "height": 34
    },
    "colab_type": "code",
    "executionInfo": {
     "elapsed": 48433,
     "status": "ok",
     "timestamp": 1580739149038,
     "user": {
      "displayName": "David Gagnon",
      "photoUrl": "https://lh3.googleusercontent.com/a-/AAuE7mCUZwCqqdWw3feuAGeqSqh-YOG409Op0xO6c-pKDQ=s64",
      "userId": "14617378013216445466"
     },
     "user_tz": 360
    },
    "id": "3ORXvvsXzTNB",
    "outputId": "bc47e689-9c66-4641-85f9-fbabf04f4229"
   },
   "outputs": [],
   "source": [
    "len(final_labels)"
   ]
  },
  {
   "cell_type": "code",
   "execution_count": null,
   "metadata": {
    "colab": {
     "base_uri": "https://localhost:8080/",
     "height": 271
    },
    "colab_type": "code",
    "executionInfo": {
     "elapsed": 49493,
     "status": "ok",
     "timestamp": 1580739150119,
     "user": {
      "displayName": "David Gagnon",
      "photoUrl": "https://lh3.googleusercontent.com/a-/AAuE7mCUZwCqqdWw3feuAGeqSqh-YOG409Op0xO6c-pKDQ=s64",
      "userId": "14617378013216445466"
     },
     "user_tz": 360
    },
    "id": "SAe8iadvzEsS",
    "outputId": "795c8758-25f5-4268-8dbf-051e59920585"
   },
   "outputs": [],
   "source": [
    "df3.plot.scatter(1,2,c=final_labels,cmap='tab20')"
   ]
  },
  {
   "cell_type": "code",
   "execution_count": null,
   "metadata": {
    "colab": {
     "base_uri": "https://localhost:8080/",
     "height": 1000,
     "output_embedded_package_id": "1DbezB8gli6CGXIHaNluWGn9ErTBXkTQt"
    },
    "colab_type": "code",
    "executionInfo": {
     "elapsed": 108466,
     "status": "ok",
     "timestamp": 1580739209118,
     "user": {
      "displayName": "David Gagnon",
      "photoUrl": "https://lh3.googleusercontent.com/a-/AAuE7mCUZwCqqdWw3feuAGeqSqh-YOG409Op0xO6c-pKDQ=s64",
      "userId": "14617378013216445466"
     },
     "user_tz": 360
    },
    "id": "8d_lqPwFmrQs",
    "outputId": "9b71765a-78d5-4c52-810a-21687e50cdc3"
   },
   "outputs": [],
   "source": [
    "important_df = pd.concat([df3, unintent_df],axis=1,sort=False)\n",
    "columns = important_df.columns\n",
    "normalized_important_df = pd.DataFrame(scale_normalize.fit_transform(important_df.to_numpy()), columns = columns)\n",
    "for x in range(len(columns)):\n",
    "  for y in range(x+1,len(columns)):\n",
    "    title = f'{columns[y]} vs {columns[x]}'\n",
    "    normalized_important_df.plot.scatter(x,y,c=final_labels, cmap='Paired',figsize=(10,10),title=f'{columns[y]} vs {columns[x]}')\n",
    "    plt.savefig(f'01312019_{title}.png')\n",
    "    #files.download(f'01312019_{title}.png')"
   ]
  },
  {
   "cell_type": "code",
   "execution_count": null,
   "metadata": {
    "colab": {
     "base_uri": "https://localhost:8080/",
     "height": 439
    },
    "colab_type": "code",
    "executionInfo": {
     "elapsed": 108443,
     "status": "ok",
     "timestamp": 1580739209119,
     "user": {
      "displayName": "David Gagnon",
      "photoUrl": "https://lh3.googleusercontent.com/a-/AAuE7mCUZwCqqdWw3feuAGeqSqh-YOG409Op0xO6c-pKDQ=s64",
      "userId": "14617378013216445466"
     },
     "user_tz": 360
    },
    "id": "MyiTDhj90JuJ",
    "outputId": "8b30eb8e-6bc4-455b-d868-afb0f0bdc842"
   },
   "outputs": [],
   "source": [
    "normalized_important_df"
   ]
  },
  {
   "cell_type": "code",
   "execution_count": null,
   "metadata": {
    "colab": {},
    "colab_type": "code",
    "id": "1hxNMZT80aTR"
   },
   "outputs": [],
   "source": []
  }
 ],
 "metadata": {
  "colab": {
   "name": "Lakeland - New Workflow 2.ipynb",
   "provenance": [
    {
     "file_id": "1KBXgYxmB4QzD-nWvWoz4gxxRfwf0KdRz",
     "timestamp": 1580495724290
    }
   ]
  },
  "kernelspec": {
   "display_name": "Python 3",
   "language": "python",
   "name": "python3"
  },
  "language_info": {
   "codemirror_mode": {
    "name": "ipython",
    "version": 3
   },
   "file_extension": ".py",
   "mimetype": "text/x-python",
   "name": "python",
   "nbconvert_exporter": "python",
   "pygments_lexer": "ipython3",
   "version": "3.7.4"
  }
 },
 "nbformat": 4,
 "nbformat_minor": 1
}
